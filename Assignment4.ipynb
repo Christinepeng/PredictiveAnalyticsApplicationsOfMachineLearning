{
 "cells": [
  {
   "cell_type": "markdown",
   "metadata": {},
   "source": [
    "Assignment 4"
   ]
  },
  {
   "cell_type": "markdown",
   "metadata": {},
   "source": [
    "Yiying Peng"
   ]
  },
  {
   "cell_type": "markdown",
   "metadata": {},
   "source": [
    "1. What assumptions are made about the attributes in Naïve Bayes method of classification and why? What is Laplacian correction and why it is necessary?"
   ]
  },
  {
   "cell_type": "markdown",
   "metadata": {},
   "source": [
    "Naïve Bayes assumes that all of the features in the dataset are equally important and independent to reduce the number of parameters.\n",
    "\n",
    "Laplacian correction is a technique used to smooth categorical data."
   ]
  },
  {
   "cell_type": "markdown",
   "metadata": {},
   "source": [
    "2.What is a decision tree? Describe a strategy that can be used to avoid overfitting in a decision tree."
   ]
  },
  {
   "cell_type": "markdown",
   "metadata": {},
   "source": [
    "A decision tree is a decision support tool that uses a tree-like graph or model of decisions and their possible consequences, including chance event outcomes, resource costs, and utility. It is one way to display an algorithm that only contains conditional control statements.\n",
    "\n",
    "Avoid overfitting: post-pruning using Chi-squared test that allows the tree to perfectly classify the training set, and then post prune the tree. "
   ]
  },
  {
   "cell_type": "markdown",
   "metadata": {},
   "source": [
    "3.How can a decision tree be converted into a rule set? Illustrate with an example. What are the advantages of the rule set representation over the decision tree representation?"
   ]
  },
  {
   "cell_type": "markdown",
   "metadata": {},
   "source": [
    "Every leaf that classifies becomes a rule. Find the path from the root of the leaf, and all the conditions that the leaf satisfies together.\n",
    "\n",
    "Take iris data as an example. If the decision tree is as following, we can get the rule set:\n",
    "\n",
    "    if y < 0.6: species will be setosa./    \n",
    "    if y >= 0.6 and y <= 1.7: species will be versicolor./\n",
    "    if y >= 0.6 and y > 1.7 and x <= 4.5: species will be versicolor.\n",
    "    \n",
    "    and so on.\n",
    "    \n",
    "The advantages is that it's really clear and we can find the result in a short time."
   ]
  },
  {
   "cell_type": "code",
   "execution_count": null,
   "metadata": {},
   "outputs": [],
   "source": [
    "iris data decision tree:\n",
    "                                y < 0.6\n",
    "                                /     \\\n",
    "                          (yes)        (no)\n",
    "                         setosa        y <= 1.7\n",
    "                                       /      \\\n",
    "                                  (yes)        (no)\n",
    "                                 x <= 4.5      versicolor\n",
    "                                /      \\\n",
    "                           (yes)        (no)\n",
    "                        versicolor      y <= 1.5\n",
    "                                        /      \\\n",
    "                                   (yes)        (no)\n",
    "                                virginica       versicolor"
   ]
  },
  {
   "cell_type": "markdown",
   "metadata": {},
   "source": [
    "4.For cancer data set.. Use three different methods to train a classifier that predicts whether cancer is Malignant or Bening,: a naïve bayes, decision tree and Random Forest. Look at the six confusion matrices: for each method, one for the training set and one for the test set, which methods, if any, are underfitting or overfitting the training set. Which algorithm do you think performs better?"
   ]
  },
  {
   "cell_type": "code",
   "execution_count": null,
   "metadata": {},
   "outputs": [],
   "source": [
    "# Install packages\n",
    "install.packages(\"mlbench\")\n",
    "install.packages(\"e1071\")\n",
    "install.packages(\"caTools\")\n",
    "install.packages(\"caret\")\n",
    "install.packages(\"mice\")\n",
    "install.packages(\"rpart\")\n",
    "install.packages(\"randomForest\")\n",
    "library(mlbench) \n",
    "library(e1071)\n",
    "library(caTools)\n",
    "library(caret)\n",
    "library(mice)\n",
    "library(rpart)\n",
    "library(randomForest)"
   ]
  },
  {
   "cell_type": "code",
   "execution_count": 15,
   "metadata": {},
   "outputs": [
    {
     "data": {
      "text/plain": [
       "      Id             Cl.thickness   Cell.size     Cell.shape  Marg.adhesion\n",
       " Length:699         1      :145   1      :384   1      :353   1      :407  \n",
       " Class :character   5      :130   10     : 67   2      : 59   2      : 58  \n",
       " Mode  :character   3      :108   3      : 52   10     : 58   3      : 58  \n",
       "                    4      : 80   2      : 45   3      : 56   10     : 55  \n",
       "                    10     : 69   4      : 40   4      : 44   4      : 33  \n",
       "                    2      : 50   5      : 30   5      : 34   8      : 25  \n",
       "                    (Other):117   (Other): 81   (Other): 95   (Other): 63  \n",
       "  Epith.c.size  Bare.nuclei   Bl.cromatin  Normal.nucleoli    Mitoses   \n",
       " 2      :386   1      :402   2      :166   1      :443     1      :579  \n",
       " 3      : 72   10     :132   3      :165   10     : 61     2      : 35  \n",
       " 4      : 48   2      : 30   1      :152   3      : 44     3      : 33  \n",
       " 1      : 47   5      : 30   7      : 73   2      : 36     10     : 14  \n",
       " 6      : 41   3      : 28   4      : 40   8      : 24     4      : 12  \n",
       " 5      : 39   (Other): 61   5      : 34   6      : 22     7      :  9  \n",
       " (Other): 66   NA's   : 16   (Other): 69   (Other): 69     (Other): 17  \n",
       "       Class    \n",
       " benign   :458  \n",
       " malignant:241  \n",
       "                \n",
       "                \n",
       "                \n",
       "                \n",
       "                "
      ]
     },
     "metadata": {},
     "output_type": "display_data"
    }
   ],
   "source": [
    "# Loading data\n",
    "data(BreastCancer)\n",
    "summary(BreastCancer) \n",
    "# (We can find 16 NA (missing values) in our dataset.)"
   ]
  },
  {
   "cell_type": "code",
   "execution_count": null,
   "metadata": {},
   "outputs": [],
   "source": [
    "# Data Cleaning\n",
    "# Removing NA and ID from dataset\n",
    "dataset_impute <- mice(BreastCancer[,2:10],  print = FALSE) \n",
    "# Adding Target class to the imputed dataset without NA\n",
    "BreastCancer <- cbind(BreastCancer[,11, drop = FALSE], mice::complete(dataset_impute, 1)) \n",
    "# Checking summary of the modified dataset\n",
    "summary(BreastCancer)"
   ]
  },
  {
   "cell_type": "code",
   "execution_count": null,
   "metadata": {},
   "outputs": [],
   "source": [
    "> summary(BreastCancer)\n",
    "       Class      Cl.thickness   Cell.size     Cell.shape  Marg.adhesion  Epith.c.size  Bare.nuclei   Bl.cromatin  Normal.nucleoli\n",
    " benign   :458   1      :145   1      :384   1      :353   1      :407   2      :386   1      :413   2      :166   1      :443    \n",
    " malignant:241   5      :130   10     : 67   2      : 59   2      : 58   3      : 72   10     :133   3      :165   10     : 61    \n",
    "                 3      :108   3      : 52   10     : 58   3      : 58   4      : 48   2      : 31   1      :152   3      : 44    \n",
    "                 4      : 80   2      : 45   3      : 56   10     : 55   1      : 47   5      : 30   7      : 73   2      : 36    \n",
    "                 10     : 69   4      : 40   4      : 44   4      : 33   6      : 41   3      : 29   4      : 40   8      : 24    \n",
    "                 2      : 50   5      : 30   5      : 34   8      : 25   5      : 39   8      : 21   5      : 34   6      : 22    \n",
    "                 (Other):117   (Other): 81   (Other): 95   (Other): 63   (Other): 66   (Other): 42   (Other): 69   (Other): 69    \n",
    "    Mitoses   \n",
    " 1      :579  \n",
    " 2      : 35  \n",
    " 3      : 33  \n",
    " 10     : 14  \n",
    " 4      : 12  \n",
    " 7      :  9  \n",
    " (Other): 17 "
   ]
  },
  {
   "cell_type": "code",
   "execution_count": null,
   "metadata": {},
   "outputs": [],
   "source": [
    "# Splitting Dataset into training and testing\n",
    "set.seed(150)    \n",
    "split=sample.split(BreastCancer, SplitRatio = 0.7)  \n",
    "training_set=subset(BreastCancer,split==TRUE)       \n",
    "test_set=subset(BreastCancer,split==FALSE)              \n",
    "# Removing target class \n",
    "topredict_set<-test_set[2:10]                       "
   ]
  },
  {
   "cell_type": "code",
   "execution_count": null,
   "metadata": {},
   "outputs": [],
   "source": [
    "# Naive Bayes Classifier\n",
    "model_naive<- naiveBayes(Class ~ ., data = training_set)   \n",
    "preds_naive <- predict(model_naive, newdata = topredict_set)        \n",
    "(conf_matrix_naive <- table(preds_naive, test_set$Class))       \n",
    "confusionMatrix(conf_matrix_naive) \n",
    "# (The confusion matrix shows that Naive Bayes classifier predicted 129 benign cases correctly and 2 wrong predictions. \n",
    "# Similarly, the model predicted 72 malignant cases correctly and 6 wrong predictions.)\n",
    "# (The accuracy of Naive Bayes Classifier is 96.17%)"
   ]
  },
  {
   "cell_type": "code",
   "execution_count": null,
   "metadata": {},
   "outputs": [],
   "source": [
    "> (conf_matrix_naive <- table(preds_naive, test_set$Class))\n",
    "           \n",
    "preds_naive benign malignant\n",
    "  benign       129         2\n",
    "  malignant      6        72\n",
    "> confusionMatrix(conf_matrix_naive)\n",
    "Confusion Matrix and Statistics\n",
    "\n",
    "           \n",
    "preds_naive benign malignant\n",
    "  benign       129         2\n",
    "  malignant      6        72\n",
    "                                         \n",
    "               Accuracy : 0.9617         \n",
    "                 95% CI : (0.926, 0.9833)\n",
    "    No Information Rate : 0.6459         \n",
    "    P-Value [Acc > NIR] : <2e-16         \n",
    "                                         \n",
    "                  Kappa : 0.9173         \n",
    "                                         \n",
    " Mcnemar's Test P-Value : 0.2888         \n",
    "                                         \n",
    "            Sensitivity : 0.9556         \n",
    "            Specificity : 0.9730         \n",
    "         Pos Pred Value : 0.9847         \n",
    "         Neg Pred Value : 0.9231         \n",
    "             Prevalence : 0.6459         \n",
    "         Detection Rate : 0.6172         \n",
    "   Detection Prevalence : 0.6268         \n",
    "      Balanced Accuracy : 0.9643         \n",
    "                                         \n",
    "       'Positive' Class : benign"
   ]
  },
  {
   "cell_type": "code",
   "execution_count": null,
   "metadata": {},
   "outputs": [],
   "source": [
    "# Random Forest Classifier\n",
    "model_rf <- randomForest(Class ~ ., data = training_set, importance=TRUE, ntree = 5)\n",
    "preds_rf <- predict(model_rf, topredict_set)              \n",
    "(conf_matrix_forest <- table(preds_rf, test_set$Class))\n",
    "confusionMatrix(conf_matrix_forest)  \n",
    "# (The confusion matrix shows that Random Forest classifier predicted 127 benign cases correctly and 3 wrong predictions. \n",
    "# Similarly, the model predicted 71 malignant cases correctly and 8 wrong predictions.)\n",
    "# (The accuracy of Naive Bayes Classifier is 95.69%)"
   ]
  },
  {
   "cell_type": "code",
   "execution_count": null,
   "metadata": {},
   "outputs": [],
   "source": [
    "> (conf_matrix_forest <- table(preds_rf, test_set$Class))\n",
    "           \n",
    "preds_rf    benign malignant\n",
    "  benign       127         3\n",
    "  malignant      8        71\n",
    "> confusionMatrix(conf_matrix_forest)\n",
    "Confusion Matrix and Statistics\n",
    "\n",
    "           \n",
    "preds_rf    benign malignant\n",
    "  benign       127         3\n",
    "  malignant      8        71\n",
    "                                          \n",
    "               Accuracy : 0.9474          \n",
    "                 95% CI : (0.9078, 0.9734)\n",
    "    No Information Rate : 0.6459          \n",
    "    P-Value [Acc > NIR] : <2e-16          \n",
    "                                          \n",
    "                  Kappa : 0.8867          \n",
    "                                          \n",
    " Mcnemar's Test P-Value : 0.2278          \n",
    "                                          \n",
    "            Sensitivity : 0.9407          \n",
    "            Specificity : 0.9595          \n",
    "         Pos Pred Value : 0.9769          \n",
    "         Neg Pred Value : 0.8987          \n",
    "             Prevalence : 0.6459          \n",
    "         Detection Rate : 0.6077          \n",
    "   Detection Prevalence : 0.6220          \n",
    "      Balanced Accuracy : 0.9501          \n",
    "                                          \n",
    "       'Positive' Class : benign"
   ]
  },
  {
   "cell_type": "code",
   "execution_count": null,
   "metadata": {},
   "outputs": [],
   "source": [
    "# Decision Tree Classifier\n",
    "model_dtree<- rpart(Class ~ ., data=training_set) \n",
    "preds_dtree <- predict(model_dtree,newdata=topredict_set, type = \"class\")\n",
    "(conf_matrix_dtree <- table(preds_dtree, test_set$Class))\n",
    "confusionMatrix(conf_matrix_dtree)\n",
    "# (The confusion matrix shows that Decision Tree classifier predicted 127 benign cases correctly and 5 wrong predictions. \n",
    "# Similarly, the model predicted 69 malignant cases correctly and 8 wrong predictions.)\n",
    "# (The accuracy of Naive Bayes Classifier is 93.78%)"
   ]
  },
  {
   "cell_type": "code",
   "execution_count": null,
   "metadata": {},
   "outputs": [],
   "source": [
    "> (conf_matrix_dtree <- table(preds_dtree, test_set$Class))\n",
    "           \n",
    "preds_dtree benign malignant\n",
    "  benign       127         5\n",
    "  malignant      8        69\n",
    "> confusionMatrix(conf_matrix_dtree)\n",
    "Confusion Matrix and Statistics\n",
    "\n",
    "           \n",
    "preds_dtree benign malignant\n",
    "  benign       127         5\n",
    "  malignant      8        69\n",
    "                                         \n",
    "               Accuracy : 0.9378         \n",
    "                 95% CI : (0.896, 0.9665)\n",
    "    No Information Rate : 0.6459         \n",
    "    P-Value [Acc > NIR] : <2e-16         \n",
    "                                         \n",
    "                  Kappa : 0.8652         \n",
    "                                         \n",
    " Mcnemar's Test P-Value : 0.5791         \n",
    "                                         \n",
    "            Sensitivity : 0.9407         \n",
    "            Specificity : 0.9324         \n",
    "         Pos Pred Value : 0.9621         \n",
    "         Neg Pred Value : 0.8961         \n",
    "             Prevalence : 0.6459         \n",
    "         Detection Rate : 0.6077         \n",
    "   Detection Prevalence : 0.6316         \n",
    "      Balanced Accuracy : 0.9366         \n",
    "                                         \n",
    "       'Positive' Class : benign         "
   ]
  },
  {
   "cell_type": "code",
   "execution_count": null,
   "metadata": {},
   "outputs": [],
   "source": [
    "Comparing the accuracy of these three models,\n",
    "we found that Naive Bayes Classifier Algorithm is a better Classifier."
   ]
  }
 ],
 "metadata": {
  "kernelspec": {
   "display_name": "R",
   "language": "R",
   "name": "ir"
  },
  "language_info": {
   "codemirror_mode": "r",
   "file_extension": ".r",
   "mimetype": "text/x-r-source",
   "name": "R",
   "pygments_lexer": "r",
   "version": "3.5.1"
  }
 },
 "nbformat": 4,
 "nbformat_minor": 2
}
