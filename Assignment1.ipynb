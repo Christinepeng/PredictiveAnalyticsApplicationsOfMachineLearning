{
 "cells": [
  {
   "cell_type": "markdown",
   "metadata": {},
   "source": [
    "Predictive Analytics: Applications of Machine Learning - Assignment1\n",
    "\n",
    "Yiying Peng"
   ]
  },
  {
   "cell_type": "markdown",
   "metadata": {},
   "source": [
    "#### What is machine learning? Where and why you will use machine learning?\n",
    "\n",
    "Designing algorithms that can learn patterns from historical data.\n",
    "\n",
    "It is used at some horrendously complicated situations which is hard to write programs to solve problems.\n",
    "\n",
    "It is used for optimizing a performance criterion using example data orpastexperience.\n",
    "\n",
    "The classical tasks for machine learning include classification, clustering, prediction, association rule mining, and association rule mining."
   ]
  },
  {
   "cell_type": "markdown",
   "metadata": {},
   "source": [
    "#### What is the difference between data mining and machine learning?\n",
    "\n",
    "Data Mining is a cross-disciplinary field that focuses on discovering properties of data sets.\n",
    "\n",
    "On the other hand, machine learning is a sub-field of data science that focuses on designing algorithms that can learn from and make predictions on the data."
   ]
  },
  {
   "cell_type": "markdown",
   "metadata": {},
   "source": [
    "#### What is normalization and why do you perform? Explain with examples. How do you perform it.\n",
    "\n",
    "The preprocessed data may contain attributes with a mixture of scales for various quantities such as nautical miles, height. \n",
    "\n",
    "Many learning algorithms like data attributes to have the same scale such as between 0 and 1 for the smallest and largest value for a given feature."
   ]
  },
  {
   "cell_type": "markdown",
   "metadata": {},
   "source": [
    "#### What is standardization and why do you perform? Explain with examples.\n",
    "\n",
    "Data standardization is a data processing workflow that converts the structure of disparate datasets into a common data format to do the data analysis more easily.\n",
    "\n",
    "Example: Consumer Package Goods brands sell their products through a retail channel. In support of that, brand exchange product sales and inventory data with the retailers. These exchanges involve standardization of inconsistencies in data formats, schemas, and values."
   ]
  },
  {
   "cell_type": "markdown",
   "metadata": {},
   "source": [
    "#### What is supervised and unsupervised learning? Give some examples.\n",
    "\n",
    "\"Supervised learning\" means that learning with a teacher (lable). On the other hand, learning without a teacher (non-lable) called \"unsupervised learning\".\n",
    "\n",
    "Example: spam classification, document classification, movie classification. A dataset fro spam filtering would contain spam messages as well as ham (not spam) messages"
   ]
  }
 ],
 "metadata": {
  "kernelspec": {
   "display_name": "Python 3",
   "language": "python",
   "name": "python3"
  },
  "language_info": {
   "codemirror_mode": {
    "name": "ipython",
    "version": 3
   },
   "file_extension": ".py",
   "mimetype": "text/x-python",
   "name": "python",
   "nbconvert_exporter": "python",
   "pygments_lexer": "ipython3",
   "version": "3.7.1"
  }
 },
 "nbformat": 4,
 "nbformat_minor": 2
}
