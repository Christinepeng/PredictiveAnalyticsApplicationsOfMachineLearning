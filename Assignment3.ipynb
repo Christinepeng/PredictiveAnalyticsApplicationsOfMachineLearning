{
 "cells": [
  {
   "cell_type": "markdown",
   "metadata": {},
   "source": [
    "Assignment 3"
   ]
  },
  {
   "cell_type": "markdown",
   "metadata": {},
   "source": [
    "Yiying Peng"
   ]
  },
  {
   "cell_type": "markdown",
   "metadata": {},
   "source": [
    "Take the iris data. \n",
    "Use Naïve Bayes algorithm to find the species with the following two observations with attributes [4.5 3.0 5.6 2.1; 5.4 2.6 4.5 0.0]. \n",
    "Show various steps involved and do as explained in the class. \n",
    "Don’t use built in naïve bayes algorithm."
   ]
  },
  {
   "cell_type": "code",
   "execution_count": 1,
   "metadata": {},
   "outputs": [],
   "source": [
    "library(datasets)"
   ]
  },
  {
   "cell_type": "code",
   "execution_count": 2,
   "metadata": {},
   "outputs": [
    {
     "data": {
      "text/html": [
       "<ol class=list-inline>\n",
       "\t<li>150</li>\n",
       "\t<li>5</li>\n",
       "</ol>\n"
      ],
      "text/latex": [
       "\\begin{enumerate*}\n",
       "\\item 150\n",
       "\\item 5\n",
       "\\end{enumerate*}\n"
      ],
      "text/markdown": [
       "1. 150\n",
       "2. 5\n",
       "\n",
       "\n"
      ],
      "text/plain": [
       "[1] 150   5"
      ]
     },
     "metadata": {},
     "output_type": "display_data"
    },
    {
     "data": {
      "text/html": [
       "<table>\n",
       "<thead><tr><th scope=col>Sepal.Length</th><th scope=col>Sepal.Width</th><th scope=col>Petal.Length</th><th scope=col>Petal.Width</th><th scope=col>Species</th></tr></thead>\n",
       "<tbody>\n",
       "\t<tr><td>5.1   </td><td>3.5   </td><td>1.4   </td><td>0.2   </td><td>setosa</td></tr>\n",
       "\t<tr><td>4.9   </td><td>3.0   </td><td>1.4   </td><td>0.2   </td><td>setosa</td></tr>\n",
       "\t<tr><td>4.7   </td><td>3.2   </td><td>1.3   </td><td>0.2   </td><td>setosa</td></tr>\n",
       "\t<tr><td>4.6   </td><td>3.1   </td><td>1.5   </td><td>0.2   </td><td>setosa</td></tr>\n",
       "\t<tr><td>5.0   </td><td>3.6   </td><td>1.4   </td><td>0.2   </td><td>setosa</td></tr>\n",
       "\t<tr><td>5.4   </td><td>3.9   </td><td>1.7   </td><td>0.4   </td><td>setosa</td></tr>\n",
       "</tbody>\n",
       "</table>\n"
      ],
      "text/latex": [
       "\\begin{tabular}{r|lllll}\n",
       " Sepal.Length & Sepal.Width & Petal.Length & Petal.Width & Species\\\\\n",
       "\\hline\n",
       "\t 5.1    & 3.5    & 1.4    & 0.2    & setosa\\\\\n",
       "\t 4.9    & 3.0    & 1.4    & 0.2    & setosa\\\\\n",
       "\t 4.7    & 3.2    & 1.3    & 0.2    & setosa\\\\\n",
       "\t 4.6    & 3.1    & 1.5    & 0.2    & setosa\\\\\n",
       "\t 5.0    & 3.6    & 1.4    & 0.2    & setosa\\\\\n",
       "\t 5.4    & 3.9    & 1.7    & 0.4    & setosa\\\\\n",
       "\\end{tabular}\n"
      ],
      "text/markdown": [
       "\n",
       "Sepal.Length | Sepal.Width | Petal.Length | Petal.Width | Species | \n",
       "|---|---|---|---|---|---|\n",
       "| 5.1    | 3.5    | 1.4    | 0.2    | setosa | \n",
       "| 4.9    | 3.0    | 1.4    | 0.2    | setosa | \n",
       "| 4.7    | 3.2    | 1.3    | 0.2    | setosa | \n",
       "| 4.6    | 3.1    | 1.5    | 0.2    | setosa | \n",
       "| 5.0    | 3.6    | 1.4    | 0.2    | setosa | \n",
       "| 5.4    | 3.9    | 1.7    | 0.4    | setosa | \n",
       "\n",
       "\n"
      ],
      "text/plain": [
       "  Sepal.Length Sepal.Width Petal.Length Petal.Width Species\n",
       "1 5.1          3.5         1.4          0.2         setosa \n",
       "2 4.9          3.0         1.4          0.2         setosa \n",
       "3 4.7          3.2         1.3          0.2         setosa \n",
       "4 4.6          3.1         1.5          0.2         setosa \n",
       "5 5.0          3.6         1.4          0.2         setosa \n",
       "6 5.4          3.9         1.7          0.4         setosa "
      ]
     },
     "metadata": {},
     "output_type": "display_data"
    },
    {
     "data": {
      "text/plain": [
       "  Sepal.Length    Sepal.Width     Petal.Length    Petal.Width   \n",
       " Min.   :4.300   Min.   :2.000   Min.   :1.000   Min.   :0.100  \n",
       " 1st Qu.:5.100   1st Qu.:2.800   1st Qu.:1.600   1st Qu.:0.300  \n",
       " Median :5.800   Median :3.000   Median :4.350   Median :1.300  \n",
       " Mean   :5.843   Mean   :3.057   Mean   :3.758   Mean   :1.199  \n",
       " 3rd Qu.:6.400   3rd Qu.:3.300   3rd Qu.:5.100   3rd Qu.:1.800  \n",
       " Max.   :7.900   Max.   :4.400   Max.   :6.900   Max.   :2.500  \n",
       "       Species  \n",
       " setosa    :50  \n",
       " versicolor:50  \n",
       " virginica :50  \n",
       "                \n",
       "                \n",
       "                "
      ]
     },
     "metadata": {},
     "output_type": "display_data"
    }
   ],
   "source": [
    "# take the iris data and take a look of it\n",
    "data(iris)\n",
    "dim(iris)\n",
    "head(iris)\n",
    "summary(iris)"
   ]
  },
  {
   "cell_type": "markdown",
   "metadata": {},
   "source": [
    "from the result of species of summary, we can asssume that the probability of each species is 1/3"
   ]
  },
  {
   "cell_type": "markdown",
   "metadata": {},
   "source": []
  },
  {
   "cell_type": "code",
   "execution_count": 3,
   "metadata": {},
   "outputs": [
    {
     "data": {
      "text/html": [
       "<table>\n",
       "<thead><tr><th scope=col>Group.1</th><th scope=col>Sepal.Length</th><th scope=col>Sepal.Width</th><th scope=col>Petal.Length</th><th scope=col>Petal.Width</th></tr></thead>\n",
       "<tbody>\n",
       "\t<tr><td>setosa    </td><td>5.006     </td><td>3.428     </td><td>1.462     </td><td>0.246     </td></tr>\n",
       "\t<tr><td>versicolor</td><td>5.936     </td><td>2.770     </td><td>4.260     </td><td>1.326     </td></tr>\n",
       "\t<tr><td>virginica </td><td>6.588     </td><td>2.974     </td><td>5.552     </td><td>2.026     </td></tr>\n",
       "</tbody>\n",
       "</table>\n"
      ],
      "text/latex": [
       "\\begin{tabular}{r|lllll}\n",
       " Group.1 & Sepal.Length & Sepal.Width & Petal.Length & Petal.Width\\\\\n",
       "\\hline\n",
       "\t setosa     & 5.006      & 3.428      & 1.462      & 0.246     \\\\\n",
       "\t versicolor & 5.936      & 2.770      & 4.260      & 1.326     \\\\\n",
       "\t virginica  & 6.588      & 2.974      & 5.552      & 2.026     \\\\\n",
       "\\end{tabular}\n"
      ],
      "text/markdown": [
       "\n",
       "Group.1 | Sepal.Length | Sepal.Width | Petal.Length | Petal.Width | \n",
       "|---|---|---|\n",
       "| setosa     | 5.006      | 3.428      | 1.462      | 0.246      | \n",
       "| versicolor | 5.936      | 2.770      | 4.260      | 1.326      | \n",
       "| virginica  | 6.588      | 2.974      | 5.552      | 2.026      | \n",
       "\n",
       "\n"
      ],
      "text/plain": [
       "  Group.1    Sepal.Length Sepal.Width Petal.Length Petal.Width\n",
       "1 setosa     5.006        3.428       1.462        0.246      \n",
       "2 versicolor 5.936        2.770       4.260        1.326      \n",
       "3 virginica  6.588        2.974       5.552        2.026      "
      ]
     },
     "metadata": {},
     "output_type": "display_data"
    },
    {
     "data": {
      "text/html": [
       "<table>\n",
       "<thead><tr><th scope=col>Group.1</th><th scope=col>Sepal.Length</th><th scope=col>Sepal.Width</th><th scope=col>Petal.Length</th><th scope=col>Petal.Width</th></tr></thead>\n",
       "<tbody>\n",
       "\t<tr><td>setosa    </td><td>0.1242490 </td><td>0.14368980</td><td>0.03015918</td><td>0.01110612</td></tr>\n",
       "\t<tr><td>versicolor</td><td>0.2664327 </td><td>0.09846939</td><td>0.22081633</td><td>0.03910612</td></tr>\n",
       "\t<tr><td>virginica </td><td>0.4043429 </td><td>0.10400408</td><td>0.30458776</td><td>0.07543265</td></tr>\n",
       "</tbody>\n",
       "</table>\n"
      ],
      "text/latex": [
       "\\begin{tabular}{r|lllll}\n",
       " Group.1 & Sepal.Length & Sepal.Width & Petal.Length & Petal.Width\\\\\n",
       "\\hline\n",
       "\t setosa     & 0.1242490  & 0.14368980 & 0.03015918 & 0.01110612\\\\\n",
       "\t versicolor & 0.2664327  & 0.09846939 & 0.22081633 & 0.03910612\\\\\n",
       "\t virginica  & 0.4043429  & 0.10400408 & 0.30458776 & 0.07543265\\\\\n",
       "\\end{tabular}\n"
      ],
      "text/markdown": [
       "\n",
       "Group.1 | Sepal.Length | Sepal.Width | Petal.Length | Petal.Width | \n",
       "|---|---|---|\n",
       "| setosa     | 0.1242490  | 0.14368980 | 0.03015918 | 0.01110612 | \n",
       "| versicolor | 0.2664327  | 0.09846939 | 0.22081633 | 0.03910612 | \n",
       "| virginica  | 0.4043429  | 0.10400408 | 0.30458776 | 0.07543265 | \n",
       "\n",
       "\n"
      ],
      "text/plain": [
       "  Group.1    Sepal.Length Sepal.Width Petal.Length Petal.Width\n",
       "1 setosa     0.1242490    0.14368980  0.03015918   0.01110612 \n",
       "2 versicolor 0.2664327    0.09846939  0.22081633   0.03910612 \n",
       "3 virginica  0.4043429    0.10400408  0.30458776   0.07543265 "
      ]
     },
     "metadata": {},
     "output_type": "display_data"
    }
   ],
   "source": [
    "# calculate the feature mean & variance of data\n",
    "mean <- aggregate(iris[, 1:4], list(iris$Species), mean)\n",
    "mean\n",
    "variance <- aggregate(iris[, 1:4], list(iris$Species), var)\n",
    "variance"
   ]
  },
  {
   "cell_type": "markdown",
   "metadata": {},
   "source": []
  },
  {
   "cell_type": "markdown",
   "metadata": {},
   "source": []
  },
  {
   "cell_type": "markdown",
   "metadata": {},
   "source": []
  },
  {
   "cell_type": "markdown",
   "metadata": {},
   "source": []
  },
  {
   "cell_type": "markdown",
   "metadata": {},
   "source": []
  },
  {
   "cell_type": "markdown",
   "metadata": {},
   "source": []
  },
  {
   "cell_type": "markdown",
   "metadata": {},
   "source": []
  },
  {
   "cell_type": "markdown",
   "metadata": {},
   "source": []
  },
  {
   "cell_type": "markdown",
   "metadata": {},
   "source": []
  },
  {
   "cell_type": "markdown",
   "metadata": {},
   "source": []
  },
  {
   "cell_type": "markdown",
   "metadata": {},
   "source": []
  },
  {
   "cell_type": "markdown",
   "metadata": {},
   "source": []
  },
  {
   "cell_type": "markdown",
   "metadata": {},
   "source": []
  },
  {
   "cell_type": "markdown",
   "metadata": {},
   "source": []
  },
  {
   "cell_type": "markdown",
   "metadata": {},
   "source": []
  },
  {
   "cell_type": "markdown",
   "metadata": {},
   "source": []
  },
  {
   "cell_type": "markdown",
   "metadata": {},
   "source": []
  },
  {
   "cell_type": "markdown",
   "metadata": {},
   "source": []
  },
  {
   "cell_type": "markdown",
   "metadata": {},
   "source": []
  },
  {
   "cell_type": "markdown",
   "metadata": {},
   "source": []
  },
  {
   "cell_type": "markdown",
   "metadata": {},
   "source": []
  },
  {
   "cell_type": "markdown",
   "metadata": {},
   "source": []
  },
  {
   "cell_type": "markdown",
   "metadata": {},
   "source": []
  },
  {
   "cell_type": "markdown",
   "metadata": {},
   "source": []
  },
  {
   "cell_type": "markdown",
   "metadata": {},
   "source": []
  },
  {
   "cell_type": "markdown",
   "metadata": {},
   "source": []
  },
  {
   "cell_type": "markdown",
   "metadata": {},
   "source": []
  },
  {
   "cell_type": "markdown",
   "metadata": {},
   "source": []
  },
  {
   "cell_type": "markdown",
   "metadata": {},
   "source": []
  },
  {
   "cell_type": "markdown",
   "metadata": {},
   "source": []
  },
  {
   "cell_type": "markdown",
   "metadata": {},
   "source": []
  },
  {
   "cell_type": "markdown",
   "metadata": {},
   "source": []
  },
  {
   "cell_type": "markdown",
   "metadata": {},
   "source": []
  },
  {
   "cell_type": "markdown",
   "metadata": {},
   "source": []
  },
  {
   "cell_type": "markdown",
   "metadata": {},
   "source": []
  },
  {
   "cell_type": "markdown",
   "metadata": {},
   "source": []
  },
  {
   "cell_type": "code",
   "execution_count": 4,
   "metadata": {},
   "outputs": [],
   "source": [
    "# calculate the posterior of each species for the two observations \n",
    "# with attributes [4.5 3.0 5.6 2.1] & [5.4 2.6 4.5 0.0]"
   ]
  },
  {
   "cell_type": "code",
   "execution_count": 5,
   "metadata": {},
   "outputs": [
    {
     "data": {
      "text/html": [
       "1.76577037485007e-188"
      ],
      "text/latex": [
       "1.76577037485007e-188"
      ],
      "text/markdown": [
       "1.76577037485007e-188"
      ],
      "text/plain": [
       "[1] 1.76577e-188"
      ]
     },
     "metadata": {},
     "output_type": "display_data"
    },
    {
     "data": {
      "text/html": [
       "6.10232374887497e-05"
      ],
      "text/latex": [
       "6.10232374887497e-05"
      ],
      "text/markdown": [
       "6.10232374887497e-05"
      ],
      "text/plain": [
       "[1] 6.102324e-05"
      ]
     },
     "metadata": {},
     "output_type": "display_data"
    },
    {
     "data": {
      "text/html": [
       "0.999938976762511"
      ],
      "text/latex": [
       "0.999938976762511"
      ],
      "text/markdown": [
       "0.999938976762511"
      ],
      "text/plain": [
       "[1] 0.999939"
      ]
     },
     "metadata": {},
     "output_type": "display_data"
    },
    {
     "data": {
      "text/html": [
       "0.999938976762511"
      ],
      "text/latex": [
       "0.999938976762511"
      ],
      "text/markdown": [
       "0.999938976762511"
      ],
      "text/plain": [
       "[1] 0.999939"
      ]
     },
     "metadata": {},
     "output_type": "display_data"
    }
   ],
   "source": [
    "# attributes [4.5 3.0 5.6 2.1]\n",
    "# probability of each attribute of setosa\n",
    "setosa_Sepal.Length <- dnorm(4.5, 5.006, sqrt(0.1242490))\n",
    "setosa_Sepal.Width <- dnorm(3.0, 3.428, sqrt(0.14368980))\n",
    "setosa_Petal.Length <- dnorm(5.6, 1.462, sqrt(0.03015918))\n",
    "setosa_Petal.Width <- dnorm(2.1, 0.246, sqrt(0.01110612))\n",
    "setosa_p <- (1/3) * setosa_Sepal.Length * setosa_Sepal.Width * \n",
    "            setosa_Petal.Length * setosa_Petal.Width\n",
    "\n",
    "# probability of each attribute of versicolor\n",
    "versicolor_Sepal.Length <- dnorm(4.5, 5.936, sqrt(0.2664327))\n",
    "versicolor_Sepal.Width <- dnorm(3.0, 2.770, sqrt(0.09846939))\n",
    "versicolor_Petal.Length <- dnorm(5.6, 4.260, sqrt(0.22081633))\n",
    "versicolor_Petal.Width <- dnorm(2.1, 1.326, sqrt(0.03910612))\n",
    "versicolor_p <- (1/3) * versicolor_Sepal.Length * versicolor_Sepal.Width * \n",
    "                versicolor_Petal.Length * versicolor_Petal.Width\n",
    "\n",
    "# probability of each attribute of virginica\n",
    "virginica_Sepal.Length <- dnorm(4.5, 6.588, sqrt(0.4043429))\n",
    "virginica_Sepal.Width <- dnorm(3.0, 2.974, sqrt(0.10400408))\n",
    "virginica_Petal.Length <- dnorm(5.6, 5.552, sqrt(0.30458776))\n",
    "virginica_Petal.Width <- dnorm(2.1, 2.026, sqrt(0.07543265))\n",
    "virginica_p <- (1/3) * virginica_Sepal.Length * virginica_Sepal.Width * \n",
    "                virginica_Petal.Length * virginica_Petal.Width\n",
    "\n",
    "# posterior probability for each species\n",
    "evidence <- setosa_p + versicolor_p + virginica_p\n",
    "setosa <- setosa_p / evidence\n",
    "setosa\n",
    "versicolor <- versicolor_p / evidence\n",
    "versicolor\n",
    "virginica <- virginica_p / evidence\n",
    "virginica\n",
    "max(setosa, versicolor, virginica)"
   ]
  },
  {
   "cell_type": "markdown",
   "metadata": {},
   "source": [
    "result: since post numerator is the greatest in the virginica case, we predict the sample is virginica "
   ]
  },
  {
   "cell_type": "markdown",
   "metadata": {},
   "source": []
  },
  {
   "cell_type": "code",
   "execution_count": 6,
   "metadata": {},
   "outputs": [
    {
     "data": {
      "text/html": [
       "9.20588575575212e-59"
      ],
      "text/latex": [
       "9.20588575575212e-59"
      ],
      "text/markdown": [
       "9.20588575575212e-59"
      ],
      "text/plain": [
       "[1] 9.205886e-59"
      ]
     },
     "metadata": {},
     "output_type": "display_data"
    },
    {
     "data": {
      "text/html": [
       "0.999859479957727"
      ],
      "text/latex": [
       "0.999859479957727"
      ],
      "text/markdown": [
       "0.999859479957727"
      ],
      "text/plain": [
       "[1] 0.9998595"
      ]
     },
     "metadata": {},
     "output_type": "display_data"
    },
    {
     "data": {
      "text/html": [
       "0.000140520042272858"
      ],
      "text/latex": [
       "0.000140520042272858"
      ],
      "text/markdown": [
       "0.000140520042272858"
      ],
      "text/plain": [
       "[1] 0.00014052"
      ]
     },
     "metadata": {},
     "output_type": "display_data"
    },
    {
     "data": {
      "text/html": [
       "0.999859479957727"
      ],
      "text/latex": [
       "0.999859479957727"
      ],
      "text/markdown": [
       "0.999859479957727"
      ],
      "text/plain": [
       "[1] 0.9998595"
      ]
     },
     "metadata": {},
     "output_type": "display_data"
    }
   ],
   "source": [
    "# attributes [5.4 2.6 4.5 0.0]\n",
    "# probability of each attribute of setosa\n",
    "setosa_Sepal.Length <- dnorm(5.4, 5.006, sqrt(0.1242490))\n",
    "setosa_Sepal.Width <- dnorm(2.6, 3.428, sqrt(0.14368980))\n",
    "setosa_Petal.Length <- dnorm(4.5, 1.462, sqrt(0.03015918))\n",
    "setosa_Petal.Width <- dnorm(0.0, 0.246, sqrt(0.01110612))\n",
    "setosa_p <- (1/3) * setosa_Sepal.Length * setosa_Sepal.Width * \n",
    "            setosa_Petal.Length * setosa_Petal.Width\n",
    "\n",
    "# probability of each attribute of versicolor\n",
    "versicolor_Sepal.Length <- dnorm(5.4, 5.936, sqrt(0.2664327))\n",
    "versicolor_Sepal.Width <- dnorm(2.6, 2.770, sqrt(0.09846939))\n",
    "versicolor_Petal.Length <- dnorm(4.5, 4.260, sqrt(0.22081633))\n",
    "versicolor_Petal.Width <- dnorm(0.0, 1.326, sqrt(0.03910612))\n",
    "versicolor_p <- (1/3) * versicolor_Sepal.Length * versicolor_Sepal.Width * \n",
    "                versicolor_Petal.Length * versicolor_Petal.Width\n",
    "\n",
    "# probability of each attribute of virginica\n",
    "virginica_Sepal.Length <- dnorm(5.4, 6.588, sqrt(0.4043429))\n",
    "virginica_Sepal.Width <- dnorm(2.6, 2.974, sqrt(0.10400408))\n",
    "virginica_Petal.Length <- dnorm(4.5, 5.552, sqrt(0.30458776))\n",
    "virginica_Petal.Width <- dnorm(0.0, 2.026, sqrt(0.07543265))\n",
    "virginica_p <- (1/3) * virginica_Sepal.Length * virginica_Sepal.Width * \n",
    "                virginica_Petal.Length * virginica_Petal.Width\n",
    "\n",
    "# posterior probability for each species\n",
    "evidence <- setosa_p + versicolor_p + virginica_p\n",
    "setosa <- setosa_p / evidence\n",
    "setosa\n",
    "versicolor <- versicolor_p / evidence\n",
    "versicolor\n",
    "virginica <- virginica_p / evidence\n",
    "virginica\n",
    "max(setosa, versicolor, virginica)"
   ]
  },
  {
   "cell_type": "markdown",
   "metadata": {},
   "source": [
    "result: since post numerator is the greatest in the versicolor case, we predict the sample is versicolor"
   ]
  }
 ],
 "metadata": {
  "kernelspec": {
   "display_name": "R",
   "language": "R",
   "name": "ir"
  },
  "language_info": {
   "codemirror_mode": "r",
   "file_extension": ".r",
   "mimetype": "text/x-r-source",
   "name": "R",
   "pygments_lexer": "r",
   "version": "3.5.1"
  }
 },
 "nbformat": 4,
 "nbformat_minor": 2
}
